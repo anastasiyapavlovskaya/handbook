{
 "cells": [
  {
   "cell_type": "markdown",
   "metadata": {},
   "source": [
    "# \"Title\"\n",
    "> \"Awesome summary\"\n",
    "\n",
    "- toc: true\n",
    "- badges: false\n",
    "- comments: false\n",
    "- categories: [fastpages, jupyter]\n",
    "- image: images/shad.png\n",
    "- search_exclude: true\n",
    "- use_math: true"
   ]
  },
  {
   "cell_type": "code",
   "execution_count": 5,
   "metadata": {
    "tags": [
     "code"
    ]
   },
   "outputs": [
    {
     "name": "stdout",
     "output_type": "stream",
     "text": [
      "hi there\n"
     ]
    }
   ],
   "source": [
    "s = 'hi'\n",
    "print(s + ' there')"
   ]
  },
  {
   "cell_type": "markdown",
   "metadata": {},
   "source": [
    "Пример вставки формулы: $\\sum_{i} p_i\\log(y_i) + (1 - p_i)\\log(1 - y_i), y_i \\in {0, 1}$\n",
    "\n",
    "А ещё можно привести другой пример вставки формулы:\n",
    "$$p_i = \\frac{1}{1 + \\exp^{-y_i<w, x_i>}}, y_i \\in {-1, 1} $$"
   ]
  }
 ],
 "metadata": {
  "kernelspec": {
   "display_name": "Python 3",
   "language": "python",
   "name": "python3"
  },
  "language_info": {
   "codemirror_mode": {
    "name": "ipython",
    "version": 3
   },
   "file_extension": ".py",
   "mimetype": "text/x-python",
   "name": "python",
   "nbconvert_exporter": "python",
   "pygments_lexer": "ipython3",
   "version": "3.8.3"
  }
 },
 "nbformat": 4,
 "nbformat_minor": 4
}
